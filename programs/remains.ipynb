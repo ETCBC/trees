{
 "cells": [
  {
   "cell_type": "markdown",
   "id": "0cdc1b3f-a347-4136-a621-b122ecdd41cd",
   "metadata": {},
   "source": [
    "After all these checks we can proceed to print out the tree structures as plain, bracketed text strings.\n",
    "\n",
    "Per tree we also print a string of the slot numbers that you get when you walk the tree in pre-order.\n",
    "And we produce node numbers from Text-Fabric."
   ]
  },
  {
   "cell_type": "markdown",
   "id": "b93e239b-fb1d-41a7-bdd5-f7e63d80c0b7",
   "metadata": {},
   "source": [
    "Then we construct a more information rich file with all trees."
   ]
  },
  {
   "cell_type": "code",
   "execution_count": 46,
   "id": "7b1c207b-49ab-4b5d-8920-1f4ccf601b1d",
   "metadata": {},
   "outputs": [
    {
     "name": "stdout",
     "output_type": "stream",
     "text": [
      "22m 46s Writing sentence trees\n",
      "22m 48s 10000 trees written\n",
      "22m 49s 20000 trees written\n",
      "22m 50s 30000 trees written\n",
      "22m 51s 40000 trees written\n",
      "22m 52s 50000 trees written\n",
      "22m 53s 60000 trees written\n",
      "22m 54s 63711 trees written to _temp/2017/trees-BHSA.txt\n"
     ]
    }
   ],
   "source": [
    "TF.info(\"Writing {} trees\".format(rootType))\n",
    "treeFile = \"{}/trees-BHSA.txt\".format(OUTPUTDIR)\n",
    "with open(treeFile, \"w\") as trees:\n",
    "    verseLabel = \"\"\n",
    "    s = 0\n",
    "    chunk = 10000\n",
    "    sc = 0\n",
    "    for node in F.otype.s(rootType):\n",
    "        if node in skip:\n",
    "            continue\n",
    "        (treeRep, wordsRep, bSlot) = tree.writeTree(\n",
    "            node, \"r\", getTag, rev=False, leafNumbers=False\n",
    "        )\n",
    "        trees.write(\n",
    "            \"\\n#{}\\tnode={}\\tbSlot={}\\t{}\\n{}\\n\".format(\n",
    "                \"{} {}:{}\".format(*T.sectionFromNode(node)),\n",
    "                node,\n",
    "                bSlot,\n",
    "                wordsRep,\n",
    "                treeRep,\n",
    "            )\n",
    "        )\n",
    "        s += 1\n",
    "        sc += 1\n",
    "        if sc == chunk:\n",
    "            TF.info(\"{} trees written\".format(s))\n",
    "            sc = 0\n",
    "TF.info(\"{} trees written to {}\".format(s, treeFile))"
   ]
  },
  {
   "cell_type": "code",
   "execution_count": 47,
   "id": "39c8b20c-4919-41a1-a3c9-493d3a167059",
   "metadata": {},
   "outputs": [
    {
     "name": "stdout",
     "output_type": "stream",
     "text": [
      "\n",
      "#Genesis 1:1\tnode=1172209\tbSlot=1\t0 1 2 3 4 5 6 7 8 9 10\n",
      "(S(C(PP(pp \"בְּ\")(n \"רֵאשִׁ֖ית\"))(VP(vb \"בָּרָ֣א\"))(NP(n \"אֱלֹהִ֑ים\"))(PP(U(pp \"אֵ֥ת\")(dt \"הַ\")(n \"שָּׁמַ֖יִם\"))(cj \"וְ\")(U(pp \"אֵ֥ת\")(dt \"הָ\")(n \"אָֽרֶץ\")))))\n",
      "\n",
      "#Genesis 1:2\tnode=1172210\tbSlot=12\t0 1 2 3 4 5 6\n",
      "(S(C(CP(cj \"וְ\"))(NP(dt \"הָ\")(n \"אָ֗רֶץ\"))(VP(vb \"הָיְתָ֥ה\"))(NP(U(n \"תֹ֨הוּ֙\"))(cj \"וָ\")(U(n \"בֹ֔הוּ\")))))\n",
      "\n",
      "#Genesis 1:2\tnode=1172211\tbSlot=19\t0 1 2 3 4\n",
      "(S(C(CP(cj \"וְ\"))(NP(n \"חֹ֖שֶׁךְ\"))(PP(pp \"עַל\")(U(n \"פְּנֵ֣י\"))(U(n \"תְהֹ֑ום\")))))\n",
      "\n",
      "#Genesis 1:2\tnode=1172212\tbSlot=24\t0 1 2 3 4 5 6 7\n",
      "(S(C(CP(cj \"וְ\"))(NP(U(n \"ר֣וּחַ\"))(U(n \"אֱלֹהִ֔ים\")))(VP(vb \"מְרַחֶ֖פֶת\"))(PP(pp \"עַל\")(U(n \"פְּנֵ֥י\"))(U(dt \"הַ\")(n \"מָּֽיִם\")))))\n",
      "\n",
      "#Genesis 1:3\tnode=1172213\tbSlot=32\t0 1 2\n",
      "(S(C(CP(cj \"וַ\"))(VP(vb \"יֹּ֥אמֶר\"))(NP(n \"אֱלֹהִ֖ים\"))))\n",
      "\n",
      "#Genesis 1:3\tnode=1172214\tbSlot=35\t0 1\n",
      "(S(C(VP(vb \"יְהִ֣י\"))(NP(n \"אֹ֑ור\"))))\n",
      "\n",
      "#Genesis 1:3\tnode=1172215\tbSlot=37\t0 1 2\n",
      "(S(C(CP(cj \"וַֽ\"))(VP(vb \"יְהִי\"))(NP(n \"אֹֽור\"))))\n",
      "\n",
      "#Genesis 1:4\tnode=1172216\tbSlot=40\t0 1 2 3 4 5 6 7\n",
      "(S(C(CP(cj \"וַ\"))(VP(vb \"יַּ֧רְא\"))(NP(n \"אֱלֹהִ֛ים\"))(PP(pp \"אֶת\")(dt \"הָ\")(n \"אֹ֖ור\"))(Cobjc(CP(cj \"כִּי\"))(VP(vb \"טֹ֑וב\")))))\n",
      "\n"
     ]
    }
   ],
   "source": [
    "!head -n 25 {treeFile}"
   ]
  },
  {
   "cell_type": "code",
   "execution_count": 49,
   "id": "79a1835f-2469-4df9-8877-5535de6ec613",
   "metadata": {},
   "outputs": [
    {
     "name": "stdout",
     "output_type": "stream",
     "text": [
      "23m 52s Writing sentence trees\n",
      "23m 53s 10000 trees written\n",
      "23m 55s 20000 trees written\n",
      "23m 56s 30000 trees written\n",
      "23m 57s 40000 trees written\n",
      "23m 58s 50000 trees written\n",
      "23m 59s 60000 trees written\n",
      "24m 00s 63711 trees written to _temp/2017/trees-BHSA-nodes.txt\n"
     ]
    }
   ],
   "source": [
    "TF.info(\"Writing {} trees\".format(rootType))\n",
    "treeFile = \"{}/trees-BHSA-nodes.txt\".format(OUTPUTDIR)\n",
    "with open(treeFile, \"w\") as trees:\n",
    "    verseLabel = \"\"\n",
    "    s = 0\n",
    "    chunk = 10000\n",
    "    sc = 0\n",
    "    for node in F.otype.s(rootType):\n",
    "        if node in skip:\n",
    "            continue\n",
    "        (treeRep, wordsRep, bSlot) = tree.writeTree(\n",
    "            node, \"r\", getTagN, rev=False, leafNumbers=False\n",
    "        )\n",
    "        trees.write(\n",
    "            \"\\n#{}\\tnode={}\\tbSlot={}\\t{}\\n{}\\n\".format(\n",
    "                \"{} {}:{}\".format(*T.sectionFromNode(node)),\n",
    "                node,\n",
    "                bSlot,\n",
    "                wordsRep,\n",
    "                treeRep,\n",
    "            )\n",
    "        )\n",
    "        s += 1\n",
    "        sc += 1\n",
    "        if sc == chunk:\n",
    "            TF.info(\"{} trees written\".format(s))\n",
    "            sc = 0\n",
    "TF.info(\"{} trees written to {}\".format(s, treeFile))"
   ]
  },
  {
   "cell_type": "markdown",
   "id": "365e2247-1dc4-4c9e-8b4a-512cf7d10b9b",
   "metadata": {},
   "source": [
    "# Preview"
   ]
  },
  {
   "cell_type": "markdown",
   "id": "47f10f79-c106-4909-aefa-87748958ac8d",
   "metadata": {},
   "source": [
    "Here are the first lines of the output."
   ]
  },
  {
   "cell_type": "code",
   "execution_count": 50,
   "id": "4ae123b8-8673-464f-ab7f-80a5281cdfed",
   "metadata": {},
   "outputs": [
    {
     "name": "stdout",
     "output_type": "stream",
     "text": [
      "\n",
      "#Genesis 1:1\tnode=1172209\tbSlot=1\t0 1 2 3 4 5 6 7 8 9 10\n",
      "(S{1172209}(C{427553}(PP{651503}(pp \"בְּ\")(n \"רֵאשִׁ֖ית\"))(VP{651504}(vb \"בָּרָ֣א\"))(NP{651505}(n \"אֱלֹהִ֑ים\"))(PP{651506}(U{1300406}(pp \"אֵ֥ת\")(dt \"הַ\")(n \"שָּׁמַ֖יִם\"))(cj \"וְ\")(U{1300407}(pp \"אֵ֥ת\")(dt \"הָ\")(n \"אָֽרֶץ\")))))\n",
      "\n",
      "#Genesis 1:2\tnode=1172210\tbSlot=12\t0 1 2 3 4 5 6\n",
      "(S{1172210}(C{427554}(CP{651507}(cj \"וְ\"))(NP{651508}(dt \"הָ\")(n \"אָ֗רֶץ\"))(VP{651509}(vb \"הָיְתָ֥ה\"))(NP{651510}(U{1300408}(n \"תֹ֨הוּ֙\"))(cj \"וָ\")(U{1300409}(n \"בֹ֔הוּ\")))))\n",
      "\n",
      "#Genesis 1:2\tnode=1172211\tbSlot=19\t0 1 2 3 4\n",
      "(S{1172211}(C{427555}(CP{651511}(cj \"וְ\"))(NP{651512}(n \"חֹ֖שֶׁךְ\"))(PP{651513}(pp \"עַל\")(U{1300410}(n \"פְּנֵ֣י\"))(U{1300411}(n \"תְהֹ֑ום\")))))\n",
      "\n",
      "#Genesis 1:2\tnode=1172212\tbSlot=24\t0 1 2 3 4 5 6 7\n",
      "(S{1172212}(C{427556}(CP{651514}(cj \"וְ\"))(NP{651515}(U{1300412}(n \"ר֣וּחַ\"))(U{1300413}(n \"אֱלֹהִ֔ים\")))(VP{651516}(vb \"מְרַחֶ֖פֶת\"))(PP{651517}(pp \"עַל\")(U{1300414}(n \"פְּנֵ֥י\"))(U{1300415}(dt \"הַ\")(n \"מָּֽיִם\")))))\n",
      "\n",
      "#Genesis 1:3\tnode=1172213\tbSlot=32\t0 1 2\n",
      "(S{1172213}(C{427557}(CP{651518}(cj \"וַ\"))(VP{651519}(vb \"יֹּ֥אמֶר\"))(NP{651520}(n \"אֱלֹהִ֖ים\"))))\n",
      "\n",
      "#Genesis 1:3\tnode=1172214\tbSlot=35\t0 1\n",
      "(S{1172214}(C{427558}(VP{651521}(vb \"יְהִ֣י\"))(NP{651522}(n \"אֹ֑ור\"))))\n",
      "\n",
      "#Genesis 1:3\tnode=1172215\tbSlot=37\t0 1 2\n",
      "(S{1172215}(C{427559}(CP{651523}(cj \"וַֽ\"))(VP{651524}(vb \"יְהִי\"))(NP{651525}(n \"אֹֽור\"))))\n",
      "\n",
      "#Genesis 1:4\tnode=1172216\tbSlot=40\t0 1 2 3 4 5 6 7\n",
      "(S{1172216}(C{427560}(CP{651526}(cj \"וַ\"))(VP{651527}(vb \"יַּ֧רְא\"))(NP{651528}(n \"אֱלֹהִ֛ים\"))(PP{651529}(pp \"אֶת\")(dt \"הָ\")(n \"אֹ֖ור\"))(Cobjc{427561}(CP{651530}(cj \"כִּי\"))(VP{651531}(vb \"טֹ֑וב\")))))\n",
      "\n"
     ]
    }
   ],
   "source": [
    "!head -n 25 {treeFile}"
   ]
  },
  {
   "cell_type": "markdown",
   "id": "a920a66c-7431-4f6d-9ceb-46ffcecb5f57",
   "metadata": {},
   "source": [
    "# Testing and debugging\n",
    "Here ends the tree generation.\n",
    "What follows is only important if you test and debug the tree generation."
   ]
  },
  {
   "cell_type": "markdown",
   "id": "c376f24a-a8e4-4549-aa43-0a3becf8b4a5",
   "metadata": {},
   "source": [
    "We can apply our algorithms to limited sets of interesting trees and random samples.\n",
    "For those cases we also apply a ``debugWrite()`` method that outputs considerably more information."
   ]
  },
  {
   "cell_type": "code",
   "execution_count": 51,
   "id": "8edf4984-d8be-492b-8597-42d7f6e84e7a",
   "metadata": {},
   "outputs": [],
   "source": [
    "def passageRoots(passage):\n",
    "    vNode = T.nodeFromSection(passage)\n",
    "    return L.d(vNode, otype=rootType)\n",
    "\n",
    "\n",
    "def showcases(cases, oFile):\n",
    "    with open(oFile, \"w\") as out:\n",
    "        for (sNode, caseText) in cases.items():\n",
    "            out.write(\n",
    "                \"\\n====================\\n{}\\n{}\\n{} TF-node={}:\\n\".format(\n",
    "                    \"{} {}:{}\".format(*T.sectionFromNode(sNode)),\n",
    "                    caseText,\n",
    "                    rootType,\n",
    "                    sNode,\n",
    "                )\n",
    "            )\n",
    "            for kind in (\"e\", \"r\"):\n",
    "                out.write(\n",
    "                    \"\\nTree based on slot embedding {}\\n\\n\".format(\n",
    "                        \"only\"\n",
    "                        if kind == \"e\"\n",
    "                        else \" and mother+clause_constituent relation\"\n",
    "                    )\n",
    "                )\n",
    "                (treeRep, wordsRep, bSlot) = tree.writeTree(\n",
    "                    sNode, kind, getTag, rev=False, leafNumbers=False\n",
    "                )\n",
    "                out.write(\"{}\\n\\n{}\\n\".format(wordsRep, treeRep))\n",
    "                out.write(\"\\nDepth={}\\n\".format(tree.depth(sNode, kind)))\n",
    "                out.write(tree.debugWriteTree(sNode, kind, legenda=kind == \"r\"))"
   ]
  },
  {
   "cell_type": "markdown",
   "id": "0a021cc0-fa94-41ae-b55d-86411a5fe922",
   "metadata": {},
   "source": [
    "This output (when done for version `4` of the BHSA)\n",
    "has been visually checked by Constantijn Sikkel and Dirk Roorda."
   ]
  },
  {
   "cell_type": "code",
   "execution_count": 52,
   "id": "f0bf74b1-9ba2-4b4e-ad0f-1ecd89c981d6",
   "metadata": {},
   "outputs": [],
   "source": [
    "# below holds for etcbc3, in etcbc4 we have less problem cases\n",
    "\n",
    "problem_desc = collections.OrderedDict(\n",
    "    (\n",
    "        (1131739, \"debug reorder\"),\n",
    "        (1131712, \"interesting\"),\n",
    "        (1131701, \"interesting\"),\n",
    "        (1140469, \"subject clause order\"),\n",
    "        (passageRoots((\"Genesis\", 1, 16))[0], \"interesting\"),\n",
    "        (1164864, \"interesting\"),\n",
    "        (1143081, \"cyclic mothers\"),\n",
    "        (1153973, \"cyclic mothers\"),\n",
    "        (1158971, \"cyclic mothers\"),\n",
    "        (1158971, \"cyclic mothers\"),\n",
    "        (1160416, \"cyclic mothers\"),\n",
    "        (1160464, \"cyclic mothers\"),\n",
    "        (1161141, \"nested cyclic mothers: C.coor => C.attr => P below first C.coor\"),\n",
    "        (1163666, \"cyclic mothers\"),\n",
    "        (1164830, \"cyclic mothers\"),\n",
    "        (1167680, \"cyclic mothers\"),\n",
    "        (1170057, \"cyclic mothers\"),\n",
    "        (1193065, \"cyclic mothers\"),\n",
    "        (1199681, \"cyclic mothers\"),\n",
    "        (1199682, \"mother points outside sentence\"),\n",
    "    )\n",
    ")\n",
    "fixedSample = (\n",
    "    1167680,\n",
    "    1167152,\n",
    "    1145250,\n",
    "    1154339,\n",
    "    1136677,\n",
    "    1166385,\n",
    "    1198984,\n",
    "    1152969,\n",
    "    1153930,\n",
    "    1150648,\n",
    "    1168396,\n",
    "    1151917,\n",
    "    1164750,\n",
    "    1156719,\n",
    "    1148048,\n",
    "    1138673,\n",
    "    1134184,\n",
    "    1156789,\n",
    "    1156600,\n",
    "    1140469,\n",
    ")\n",
    "sampleSize = 20\n",
    "sample = {}\n",
    "fSample = collections.OrderedDict()\n",
    "motherKeys = list(sorted(tree.mother))\n",
    "for s in range(20):\n",
    "    r = random.randint(0, len(motherKeys) - 1)\n",
    "    sNode = tree.getRoot(tree.mother[motherKeys[r]], \"e\")[0]\n",
    "    sample[sNode] = \"random sample in {}s with {}s with mothers\".format(\n",
    "        rootType, clauseType\n",
    "    )\n",
    "for sNode in fixedSample:\n",
    "    fSample[sNode] = \"random sample in {}s with {}s with mothers\".format(\n",
    "        rootType, clauseType\n",
    "    )\n",
    "\n",
    "# showcases(problemDesc, 'tree-notabene.txt')\n",
    "# showcases(sample, '{}/trees-{}-random-{}.txt'.format(OUTPUTDIR, VERSION, sampleSize))\n",
    "# showcases(fsample, 'trees-fixed-{}.txt'.format(len(fsample)))"
   ]
  }
 ],
 "metadata": {
  "kernelspec": {
   "display_name": "Python 3",
   "language": "python",
   "name": "python3"
  },
  "language_info": {
   "codemirror_mode": {
    "name": "ipython",
    "version": 3
   },
   "file_extension": ".py",
   "mimetype": "text/x-python",
   "name": "python",
   "nbconvert_exporter": "python",
   "pygments_lexer": "ipython3",
   "version": "3.9.2"
  },
  "widgets": {
   "application/vnd.jupyter.widget-state+json": {
    "state": {},
    "version_major": 2,
    "version_minor": 0
   }
  }
 },
 "nbformat": 4,
 "nbformat_minor": 5
}
